{
 "cells": [
  {
   "cell_type": "code",
   "execution_count": 48,
   "id": "18590632",
   "metadata": {},
   "outputs": [],
   "source": [
    "class VigenereEncoding:\n",
    "    def __init__(self,key: str):\n",
    "        self.key = key\n",
    "        \n",
    "    @staticmethod\n",
    "    def getTableValue(letterCol,letterRow):\n",
    "        return chr(ord('a')+(ord(letterCol)-2*ord('a')+ord(letterRow))%(ord('z')-ord('a')))\n",
    "\n",
    "    @staticmethod\n",
    "    def getDecodedValue(letterEnc,keyLetter):\n",
    "        return chr(ord('a')+(ord(letterEnc)-ord(keyLetter))%(ord('z')-ord('a')))\n",
    "    \n",
    "    def encodeString(self, string):\n",
    "        i = 0\n",
    "        mod = len(self.key)\n",
    "        encoded = \"\"\n",
    "        for s in string:\n",
    "            encoded+=VigenereEncoding.getTableValue(s,self.key[i])\n",
    "            i = (i+1)%mod\n",
    "        return encoded\n",
    "    \n",
    "    def decodeString(self, string):\n",
    "        i = 0\n",
    "        mod = len(self.key)\n",
    "        encoded = \"\"\n",
    "        for s in string:\n",
    "            encoded+=VigenereEncoding.getDecodedValue(s,self.key[i])\n",
    "            i = (i+1)%mod\n",
    "        return encoded\n",
    "    "
   ]
  },
  {
   "cell_type": "code",
   "execution_count": 49,
   "id": "c94b0ff5",
   "metadata": {},
   "outputs": [],
   "source": [
    "v = VigenereEncoding(\"lemon\")"
   ]
  },
  {
   "cell_type": "code",
   "execution_count": 50,
   "id": "b0e46649",
   "metadata": {},
   "outputs": [
    {
     "data": {
      "text/plain": [
       "'lxgopvegrnir'"
      ]
     },
     "execution_count": 50,
     "metadata": {},
     "output_type": "execute_result"
    }
   ],
   "source": [
    "enc = v.encodeString(\"attackatdawn\")\n",
    "enc"
   ]
  },
  {
   "cell_type": "code",
   "execution_count": 51,
   "id": "c935108d",
   "metadata": {},
   "outputs": [
    {
     "data": {
      "text/plain": [
       "'attackatdawn'"
      ]
     },
     "execution_count": 51,
     "metadata": {},
     "output_type": "execute_result"
    }
   ],
   "source": [
    "v.decodeString(enc)"
   ]
  },
  {
   "cell_type": "code",
   "execution_count": 52,
   "id": "7fe4f93a",
   "metadata": {},
   "outputs": [],
   "source": [
    "from random import randint"
   ]
  },
  {
   "cell_type": "code",
   "execution_count": null,
   "id": "a4c95474",
   "metadata": {},
   "outputs": [],
   "source": []
  }
 ],
 "metadata": {
  "kernelspec": {
   "display_name": "Python 3 (ipykernel)",
   "language": "python",
   "name": "python3"
  },
  "language_info": {
   "codemirror_mode": {
    "name": "ipython",
    "version": 3
   },
   "file_extension": ".py",
   "mimetype": "text/x-python",
   "name": "python",
   "nbconvert_exporter": "python",
   "pygments_lexer": "ipython3",
   "version": "3.10.7"
  }
 },
 "nbformat": 4,
 "nbformat_minor": 5
}
